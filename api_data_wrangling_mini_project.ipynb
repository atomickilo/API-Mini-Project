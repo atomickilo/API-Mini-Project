{
 "cells": [
  {
   "cell_type": "markdown",
   "metadata": {},
   "source": [
    "This exercise will require you to pull some data from the Qunadl API. Qaundl is currently the most widely used aggregator of financial market data."
   ]
  },
  {
   "cell_type": "markdown",
   "metadata": {},
   "source": [
    "As a first step, you will need to register a free account on the http://www.quandl.com website."
   ]
  },
  {
   "cell_type": "markdown",
   "metadata": {},
   "source": [
    "After you register, you will be provided with a unique API key, that you should store:"
   ]
  },
  {
   "cell_type": "code",
   "execution_count": 1,
   "metadata": {},
   "outputs": [],
   "source": [
    "# Store the API key as a string - according to PEP8, constants are always named in all upper case\n",
    "API_KEY = my_api_key"
   ]
  },
  {
   "cell_type": "markdown",
   "metadata": {},
   "source": [
    "Qaundl has a large number of data sources, but, unfortunately, most of them require a Premium subscription. Still, there are also a good number of free datasets."
   ]
  },
  {
   "cell_type": "markdown",
   "metadata": {},
   "source": [
    "For this mini project, we will focus on equities data from the Frankfurt Stock Exhange (FSE), which is available for free. We'll try and analyze the stock prices of a company called Carl Zeiss Meditec, which manufactures tools for eye examinations, as well as medical lasers for laser eye surgery: https://www.zeiss.com/meditec/int/home.html. The company is listed under the stock ticker AFX_X."
   ]
  },
  {
   "cell_type": "markdown",
   "metadata": {},
   "source": [
    "You can find the detailed Quandl API instructions here: https://docs.quandl.com/docs/time-series"
   ]
  },
  {
   "cell_type": "markdown",
   "metadata": {},
   "source": [
    "While there is a dedicated Python package for connecting to the Quandl API, we would prefer that you use the *requests* package, which can be easily downloaded using *pip* or *conda*. You can find the documentation for the package here: http://docs.python-requests.org/en/master/ "
   ]
  },
  {
   "cell_type": "markdown",
   "metadata": {},
   "source": [
    "Finally, apart from the *requests* package, you are encouraged to not use any third party Python packages, such as *pandas*, and instead focus on what's available in the Python Standard Library (the *collections* module might come in handy: https://pymotw.com/3/collections/ ).\n",
    "Also, since you won't have access to DataFrames, you are encouraged to us Python's native data structures - preferably dictionaries, though some questions can also be answered using lists.\n",
    "You can read more on these data structures here: https://docs.python.org/3/tutorial/datastructures.html"
   ]
  },
  {
   "cell_type": "markdown",
   "metadata": {},
   "source": [
    "Keep in mind that the JSON responses you will be getting from the API map almost one-to-one to Python's dictionaries. Unfortunately, they can be very nested, so make sure you read up on indexing dictionaries in the documentation provided above."
   ]
  },
  {
   "cell_type": "code",
   "execution_count": 2,
   "metadata": {},
   "outputs": [],
   "source": [
    "# First, import the relevant modules\n",
    "\n",
    "import requests\n",
    "from datetime import datetime,timedelta"
   ]
  },
  {
   "cell_type": "code",
   "execution_count": 3,
   "metadata": {},
   "outputs": [],
   "source": [
    "# Now, call the Quandl API and pull out a small sample of the data (only one day) to get a glimpse\n",
    "# into the JSON structure that will be returned\n",
    "\n",
    "r = requests.get('https://www.quandl.com/api/v3/datasets/FSE/AFX_X', API_KEY)"
   ]
  },
  {
   "cell_type": "code",
   "execution_count": 4,
   "metadata": {
    "scrolled": true
   },
   "outputs": [],
   "source": [
    "# Inspect the JSON structure of the object you created, and take note of how nested it is,\n",
    "# as well as the overall structure\n",
    "\n",
    "r.json();"
   ]
  },
  {
   "cell_type": "markdown",
   "metadata": {},
   "source": [
    "These are your tasks for this mini project:\n",
    "\n",
    "1. Collect data from the Franfurt Stock Exchange, for the ticker AFX_X, for the whole year 2017 (keep in mind that the date format is YYYY-MM-DD).\n",
    "2. Convert the returned JSON object into a Python dictionary.\n",
    "3. Calculate what the highest and lowest opening prices were for the stock in this period.\n",
    "4. What was the largest change in any one day (based on High and Low price)?\n",
    "5. What was the largest change between any two days (based on Closing Price)?\n",
    "6. What was the average daily trading volume during this year?\n",
    "7. (Optional) What was the median trading volume during this year. (Note: you may need to implement your own function for calculating the median.)"
   ]
  },
  {
   "cell_type": "code",
   "execution_count": 5,
   "metadata": {},
   "outputs": [
    {
     "data": {
      "text/plain": [
       "[[datetime.date(2017, 12, 29),\n",
       "  51.76,\n",
       "  51.94,\n",
       "  51.45,\n",
       "  51.76,\n",
       "  None,\n",
       "  34640.0,\n",
       "  1792304.0,\n",
       "  None,\n",
       "  None,\n",
       "  None],\n",
       " [datetime.date(2017, 12, 28),\n",
       "  51.65,\n",
       "  51.82,\n",
       "  51.43,\n",
       "  51.6,\n",
       "  None,\n",
       "  40660.0,\n",
       "  2099024.0,\n",
       "  None,\n",
       "  None,\n",
       "  None],\n",
       " [datetime.date(2017, 12, 27),\n",
       "  51.45,\n",
       "  51.89,\n",
       "  50.76,\n",
       "  51.82,\n",
       "  None,\n",
       "  57452.0,\n",
       "  2957018.0,\n",
       "  None,\n",
       "  None,\n",
       "  None],\n",
       " [datetime.date(2017, 12, 22),\n",
       "  51.05,\n",
       "  51.5,\n",
       "  50.92,\n",
       "  51.32,\n",
       "  None,\n",
       "  71165.0,\n",
       "  3641949.0,\n",
       "  None,\n",
       "  None,\n",
       "  None]]"
      ]
     },
     "execution_count": 5,
     "metadata": {},
     "output_type": "execute_result"
    }
   ],
   "source": [
    "# We go through the data and convert each date string to a datetime date object. Then we use list comprehension to find the data\n",
    "# for 2017\n",
    "\n",
    "afx = r.json()['dataset']['data']\n",
    "for day in afx:\n",
    "    day[0] =  datetime.strptime(day[0], '%Y-%m-%d').date()\n",
    "\n",
    "afx_2017 = [day for day in afx if day[0].year==2017]\n",
    "afx_2017[0:4]"
   ]
  },
  {
   "cell_type": "code",
   "execution_count": 6,
   "metadata": {},
   "outputs": [
    {
     "data": {
      "text/plain": [
       "[{'Date': datetime.date(2017, 12, 29),\n",
       "  'Open': 51.76,\n",
       "  'High': 51.94,\n",
       "  'Low': 51.45,\n",
       "  'Close': 51.76,\n",
       "  'Change': None,\n",
       "  'Traded Volume': 34640.0,\n",
       "  'Turnover': 1792304.0,\n",
       "  'Last Price of the Day': None,\n",
       "  'Daily Traded Units': None,\n",
       "  'Daily Turnover': None},\n",
       " {'Date': datetime.date(2017, 12, 28),\n",
       "  'Open': 51.65,\n",
       "  'High': 51.82,\n",
       "  'Low': 51.43,\n",
       "  'Close': 51.6,\n",
       "  'Change': None,\n",
       "  'Traded Volume': 40660.0,\n",
       "  'Turnover': 2099024.0,\n",
       "  'Last Price of the Day': None,\n",
       "  'Daily Traded Units': None,\n",
       "  'Daily Turnover': None},\n",
       " {'Date': datetime.date(2017, 12, 27),\n",
       "  'Open': 51.45,\n",
       "  'High': 51.89,\n",
       "  'Low': 50.76,\n",
       "  'Close': 51.82,\n",
       "  'Change': None,\n",
       "  'Traded Volume': 57452.0,\n",
       "  'Turnover': 2957018.0,\n",
       "  'Last Price of the Day': None,\n",
       "  'Daily Traded Units': None,\n",
       "  'Daily Turnover': None},\n",
       " {'Date': datetime.date(2017, 12, 22),\n",
       "  'Open': 51.05,\n",
       "  'High': 51.5,\n",
       "  'Low': 50.92,\n",
       "  'Close': 51.32,\n",
       "  'Change': None,\n",
       "  'Traded Volume': 71165.0,\n",
       "  'Turnover': 3641949.0,\n",
       "  'Last Price of the Day': None,\n",
       "  'Daily Traded Units': None,\n",
       "  'Daily Turnover': None}]"
      ]
     },
     "execution_count": 6,
     "metadata": {},
     "output_type": "execute_result"
    }
   ],
   "source": [
    "# We build a list of dictionaries that contains the labeled trade data\n",
    "\n",
    "afx_2017_dicts = []\n",
    "for day in afx_2017:\n",
    "    afx_2017_dicts.append(dict(zip(r.json()['dataset']['column_names'], day)))\n",
    "    \n",
    "afx_2017_dicts[0:4]"
   ]
  },
  {
   "cell_type": "code",
   "execution_count": 7,
   "metadata": {},
   "outputs": [
    {
     "name": "stdout",
     "output_type": "stream",
     "text": [
      "The highest opening price was 53.11 € on 2017-12-14\n",
      "The lowest opening price was 34.00 € on 2017-01-24\n"
     ]
    }
   ],
   "source": [
    "# We go through each day and check if the open price was the higher or lower than the highest/lowest price that we have seen.\n",
    "# We can initialize the lowest price as the first entry.\n",
    "\n",
    "highest, lowest = 0, afx_2017_dicts[0]['Open']\n",
    "\n",
    "for day in afx_2017_dicts:\n",
    "    if day['Open'] != None:\n",
    "        if day['Open'] > highest:\n",
    "            highest = day['Open']\n",
    "            highest_date = day['Date']\n",
    "        elif day['Open'] < lowest:\n",
    "            lowest = day['Open']\n",
    "            lowest_date = day['Date']\n",
    "        \n",
    "print('The highest opening price was {} € on {}'.format(\"%.2f\" % highest,highest_date))\n",
    "print('The lowest opening price was {} € on {}'.format(\"%.2f\" % lowest,lowest_date))"
   ]
  },
  {
   "cell_type": "code",
   "execution_count": 8,
   "metadata": {
    "scrolled": true
   },
   "outputs": [
    {
     "name": "stdout",
     "output_type": "stream",
     "text": [
      "The largest change in any one day was 2.81 € on 2017-05-11\n"
     ]
    }
   ],
   "source": [
    "# We use a for loop to check the difference between the high and low prices each day and see if it's greater than any we have \n",
    "# seen before.\n",
    "\n",
    "one_day_change = 0\n",
    "\n",
    "for day in afx_2017_dicts:\n",
    "    if abs(day['High'] - day['Low']) > one_day_change:\n",
    "        one_day_change = abs(day['High'] - day['Low'])\n",
    "        one_day_date = day['Date']\n",
    "\n",
    "print('The largest change in any one day was {} € on {}'.format(\"%.2f\" % one_day_change, one_day_date))\n"
   ]
  },
  {
   "cell_type": "code",
   "execution_count": 9,
   "metadata": {},
   "outputs": [
    {
     "name": "stdout",
     "output_type": "stream",
     "text": [
      "The largest change between any two days was 2.56 € between 2017-08-08 and 2017-08-09\n"
     ]
    }
   ],
   "source": [
    "# We initialize the \"previous\" closing price from the first entry and use a for loop to check if the difference between the next and \n",
    "# previous closing prices is greater than any we have seen. First and second  refers to the order which we go through the list\n",
    "# but chronologically the first date will be the day after the second date.\n",
    "\n",
    "two_day_change = 0\n",
    "first_close = afx_2017_dicts[0]['Close']\n",
    "\n",
    "for day in afx_2017_dicts:\n",
    "    second_close = day['Close']\n",
    "    if abs(second_close - first_close) > two_day_change:\n",
    "        two_day_change = abs(second_close - first_close)\n",
    "        second_date = day['Date']\n",
    "        first_date = second_date + timedelta(days = 1)\n",
    "    first_close = day['Close']\n",
    "\n",
    "print('The largest change between any two days was {} € between {} and {}'.format(\"%.2f\" % two_day_change,second_date,first_date))"
   ]
  },
  {
   "cell_type": "code",
   "execution_count": 10,
   "metadata": {},
   "outputs": [
    {
     "name": "stdout",
     "output_type": "stream",
     "text": [
      "The average daily trading volume for 2017 was 89,124 shares\n"
     ]
    }
   ],
   "source": [
    "day_count = 0\n",
    "volume_sum = 0\n",
    "\n",
    "for day in afx_2017_dicts:\n",
    "        volume_sum += day['Traded Volume']\n",
    "        day_count += 1\n",
    "\n",
    "average_volume = volume_sum / day_count\n",
    "print('The average daily trading volume for 2017 was {:,} shares'.format(int(average_volume)))"
   ]
  },
  {
   "cell_type": "code",
   "execution_count": 11,
   "metadata": {},
   "outputs": [
    {
     "name": "stdout",
     "output_type": "stream",
     "text": [
      "The median trading volume for 2017 was 76,286 shares\n"
     ]
    }
   ],
   "source": [
    "daily_volume = []\n",
    "\n",
    "for day in afx_2017_dicts:\n",
    "    daily_volume.append(day['Traded Volume'])\n",
    "\n",
    "\n",
    "def median(lst):\n",
    "    \"\"\"takes a list of numbers and finds the median\"\"\" \n",
    "    s = sorted(lst)\n",
    "    l = len(lst)\n",
    "    i = (l-1) // 2\n",
    "    if (l % 2 == 1):\n",
    "        return s[i]\n",
    "    else:\n",
    "        return (s[i] + s[i+1]) / 2\n",
    "\n",
    "print('The median trading volume for 2017 was {:,} shares'.format(int(median(daily_volume))))"
   ]
  }
 ],
 "metadata": {
  "kernelspec": {
   "display_name": "Python 3",
   "language": "python",
   "name": "python3"
  },
  "language_info": {
   "codemirror_mode": {
    "name": "ipython",
    "version": 3
   },
   "file_extension": ".py",
   "mimetype": "text/x-python",
   "name": "python",
   "nbconvert_exporter": "python",
   "pygments_lexer": "ipython3",
   "version": "3.7.3"
  }
 },
 "nbformat": 4,
 "nbformat_minor": 2
}
